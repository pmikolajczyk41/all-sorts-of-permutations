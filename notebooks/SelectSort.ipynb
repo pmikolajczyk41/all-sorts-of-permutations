{
 "cells": [
  {
   "cell_type": "code",
   "execution_count": 1,
   "metadata": {},
   "outputs": [],
   "source": [
    ":set -XNoMonadFailDesugaring\n",
    ":l SortersM\n",
    ":l Predicates"
   ]
  },
  {
   "cell_type": "code",
   "execution_count": 2,
   "metadata": {},
   "outputs": [
    {
     "data": {
      "text/plain": [
       "[[3,2,1],[3,1,2],[2,3,1],[2,1,3],[3,2,1],[3,1,2],[1,3,2],[1,2,3]]"
      ]
     },
     "metadata": {},
     "output_type": "display_data"
    }
   ],
   "source": [
    "selectSortM coinCmp [3,2,1] :: [[Int]]"
   ]
  },
  {
   "cell_type": "code",
   "execution_count": 3,
   "metadata": {},
   "outputs": [
    {
     "data": {
      "text/plain": [
       "[[3,2,1],[2,3,1],[2,1,3],[3,1,2],[1,3,2],[1,2,3]]"
      ]
     },
     "metadata": {},
     "output_type": "display_data"
    }
   ],
   "source": [
    "import Control.Monad.State\n",
    "evalStateT (selectSortM consistentCoinCmp [3,2,1]) noChoices :: [[Int]]"
   ]
  },
  {
   "cell_type": "code",
   "execution_count": 4,
   "metadata": {},
   "outputs": [
    {
     "ename": "",
     "evalue": "",
     "output_type": "error",
     "traceback": [
      "<interactive>:1:1: error: attempting to use module ‘main:Data.Set.Monad’ (./Data/Set/Monad.hs) which is not loaded"
     ]
    }
   ],
   "source": [
    "import qualified Data.Set.Monad as SetM (toList)\n",
    "SetM.toList $ selectSortM coinCmp [3,2,1]"
   ]
  },
  {
   "cell_type": "code",
   "execution_count": 5,
   "metadata": {},
   "outputs": [
    {
     "data": {
      "text/plain": [
       "[1,2,1,3]"
      ]
     },
     "metadata": {},
     "output_type": "display_data"
    }
   ],
   "source": [
    "minimumNDM :: (MonadPlus m) => [a] -> m a\n",
    "minimumNDM [x] = return x\n",
    "minimumNDM (x:xs) = do\n",
    "    y <- minimumNDM xs\n",
    "    return x `mplus` return y\n",
    "\n",
    "minimumNDM [1,2,3] :: [Int]"
   ]
  },
  {
   "cell_type": "code",
   "execution_count": 6,
   "metadata": {},
   "outputs": [
    {
     "data": {
      "text/plain": [
       "[1,2,3]"
      ]
     },
     "metadata": {},
     "output_type": "display_data"
    }
   ],
   "source": [
    "minimumNDM :: (MonadPlus m) => [a] -> m a\n",
    "minimumNDM [x] = return x\n",
    "minimumNDM (x:xs) = return x `mplus` minimumNDM xs\n",
    "\n",
    "minimumNDM [1,2,3] :: [Int]"
   ]
  },
  {
   "cell_type": "code",
   "execution_count": 7,
   "metadata": {},
   "outputs": [
    {
     "data": {
      "text/plain": [
       "[[1,2,3],[1,3,2],[2,1,3],[2,3,1],[3,1,2],[3,2,1]]"
      ]
     },
     "metadata": {},
     "output_type": "display_data"
    }
   ],
   "source": [
    "import qualified Data.List as List\n",
    "\n",
    "selectSortNDM :: (Eq a, MonadPlus m) => [a] -> m [a]\n",
    "selectSortNDM [] = return []\n",
    "selectSortNDM xs = do\n",
    "    x <- minimumNDM xs\n",
    "    fmap (x:) (selectSortNDM (List.delete x xs))\n",
    "\n",
    "selectSortNDM [1,2,3] :: [[Int]]"
   ]
  }
 ],
 "metadata": {
  "kernelspec": {
   "display_name": "Haskell",
   "language": "haskell",
   "name": "haskell"
  },
  "language_info": {
   "codemirror_mode": "ihaskell",
   "file_extension": ".hs",
   "mimetype": "text/x-haskell",
   "name": "haskell",
   "pygments_lexer": "Haskell",
   "version": "8.6.5"
  }
 },
 "nbformat": 4,
 "nbformat_minor": 4
}
