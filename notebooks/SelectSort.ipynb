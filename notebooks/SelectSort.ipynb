{
 "cells": [
  {
   "cell_type": "markdown",
   "metadata": {},
   "source": [
    "# Selection sort"
   ]
  },
  {
   "cell_type": "code",
   "execution_count": 1,
   "metadata": {},
   "outputs": [],
   "source": [
    ":set -XNoMonadFailDesugaring\n",
    ":l SortersM\n",
    ":l Predicates"
   ]
  },
  {
   "cell_type": "markdown",
   "metadata": {},
   "source": [
    "It turns out, that combining the default implementation of selection sort with `coinCmp` leads to enumerating multiple times some of the sequences - we get a supermultiset of the permutation set."
   ]
  },
  {
   "cell_type": "code",
   "execution_count": 2,
   "metadata": {},
   "outputs": [
    {
     "data": {
      "text/plain": [
       "[[3,2,1],[3,1,2],[2,3,1],[2,1,3],[3,2,1],[3,1,2],[1,3,2],[1,2,3]]"
      ]
     },
     "metadata": {},
     "output_type": "display_data"
    }
   ],
   "source": [
    "selectSortM coinCmp [3,2,1] :: [[Int]]"
   ]
  },
  {
   "cell_type": "markdown",
   "metadata": {},
   "source": [
    "The reason behind this, is the inconsistency of our predicate - during algorithm we may ask multiple times about the same pair of elements, but `coinCmp` may return different answers and thus leading to extra results. We can overcome this problem by guarding the consistency - we do that by keeping a *state* within our nondeterministic procedure, namely on every branch we keep track of the already built relation."
   ]
  },
  {
   "cell_type": "code",
   "execution_count": 3,
   "metadata": {},
   "outputs": [
    {
     "data": {
      "text/plain": [
       "[[3,2,1],[2,3,1],[2,1,3],[3,1,2],[1,3,2],[1,2,3]]"
      ]
     },
     "metadata": {},
     "output_type": "display_data"
    }
   ],
   "source": [
    "import Control.Monad.State\n",
    "evalStateT (selectSortM consistentCoinCmp [3,2,1]) noChoices :: [[Int]]"
   ]
  },
  {
   "cell_type": "markdown",
   "metadata": {},
   "source": [
    "To avoid using monadic tranformers and states, we can instead use Set monad."
   ]
  },
  {
   "cell_type": "code",
   "execution_count": 4,
   "metadata": {},
   "outputs": [
    {
     "data": {
      "text/plain": [
       "[[1,2,3],[1,3,2],[2,1,3],[2,3,1],[3,1,2],[3,2,1]]"
      ]
     },
     "metadata": {},
     "output_type": "display_data"
    }
   ],
   "source": [
    "import qualified Data.Set.Monad as SetM (toList)\n",
    "SetM.toList $ selectSortM coinCmp [3,2,1]"
   ]
  },
  {
   "cell_type": "markdown",
   "metadata": {},
   "source": [
    "However, this approach is kind of inefficient. We sieve permutations after creating them. We may try to optimize this process one level lower - while seeking for minimum.\n",
    "\n",
    "Here is the default implementation, but with inlined code of `coinCmp` and simplifications:"
   ]
  },
  {
   "cell_type": "code",
   "execution_count": 5,
   "metadata": {},
   "outputs": [
    {
     "data": {
      "text/plain": [
       "[1,2,1,3]"
      ]
     },
     "metadata": {},
     "output_type": "display_data"
    }
   ],
   "source": [
    "minimumNDM :: (MonadPlus m) => [a] -> m a\n",
    "minimumNDM [x] = return x\n",
    "minimumNDM (x:xs) = do\n",
    "    y <- minimumNDM xs\n",
    "    return x `mplus` return y\n",
    "\n",
    "minimumNDM [1,2,3] :: [Int]"
   ]
  },
  {
   "cell_type": "markdown",
   "metadata": {},
   "source": [
    "If we assume, that our monad is both idempotent wrt `mplus` and left distributive wrt `bind` and `mplus` we can simplify the implementation even more, avoiding calling `return x` unnecessary. As the list monad doesn't satisfy these requirements, we lose some of the results:"
   ]
  },
  {
   "cell_type": "code",
   "execution_count": 6,
   "metadata": {},
   "outputs": [
    {
     "data": {
      "text/plain": [
       "[1,2,3]"
      ]
     },
     "metadata": {},
     "output_type": "display_data"
    }
   ],
   "source": [
    "minimumNDM :: (MonadPlus m) => [a] -> m a\n",
    "minimumNDM [x] = return x\n",
    "minimumNDM (x:xs) = return x `mplus` minimumNDM xs\n",
    "\n",
    "minimumNDM [1,2,3] :: [Int]"
   ]
  },
  {
   "cell_type": "markdown",
   "metadata": {},
   "source": [
    "Fortunately, it is sufficient to get exactly `n!` unique permutations with inconsistent predicate (we have abandoned tracking answers)."
   ]
  },
  {
   "cell_type": "code",
   "execution_count": 7,
   "metadata": {},
   "outputs": [
    {
     "data": {
      "text/plain": [
       "[[1,2,3],[1,3,2],[2,1,3],[2,3,1],[3,1,2],[3,2,1]]"
      ]
     },
     "metadata": {},
     "output_type": "display_data"
    }
   ],
   "source": [
    "import qualified Data.List as List\n",
    "\n",
    "selectSortNDM :: (Eq a, MonadPlus m) => [a] -> m [a]\n",
    "selectSortNDM [] = return []\n",
    "selectSortNDM xs = do\n",
    "    x <- minimumNDM xs\n",
    "    fmap (x:) (selectSortNDM (List.delete x xs))\n",
    "\n",
    "selectSortNDM [1,2,3] :: [[Int]]"
   ]
  }
 ],
 "metadata": {
  "kernelspec": {
   "display_name": "Haskell",
   "language": "haskell",
   "name": "haskell"
  },
  "language_info": {
   "codemirror_mode": "ihaskell",
   "file_extension": ".hs",
   "mimetype": "text/x-haskell",
   "name": "haskell",
   "pygments_lexer": "Haskell",
   "version": "8.6.5"
  }
 },
 "nbformat": 4,
 "nbformat_minor": 4
}
