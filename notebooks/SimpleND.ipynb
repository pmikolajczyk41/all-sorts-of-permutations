{
 "cells": [
  {
   "cell_type": "code",
   "execution_count": 1,
   "metadata": {},
   "outputs": [],
   "source": [
    "type ND a = [a]\n",
    "type CmpND a = a -> a -> ND Bool\n",
    "\n",
    "coinCmpND :: CmpND a\n",
    "coinCmpND _ _ = [True, False]\n",
    "\n",
    "liftND :: a -> ND a\n",
    "liftND x = [x]\n",
    "\n",
    "apply :: (a -> ND b) -> ND a -> ND b\n",
    "apply = concatMap\n",
    "\n",
    "insert' _ x [] = liftND [x]\n",
    "insert' p x yss@(y:ys) =\n",
    "    apply (\\b -> if b then liftND (x : yss)\n",
    "                      else (y:) <$> insert' p x ys) (p x y)\n",
    "\n",
    "insertSort :: CmpND a -> [a] -> ND [a]\n",
    "insertSort _ [] = liftND []\n",
    "insertSort p (x:xs) = apply (insert' p x) (insertSort p xs)"
   ]
  },
  {
   "cell_type": "code",
   "execution_count": 2,
   "metadata": {
    "scrolled": true
   },
   "outputs": [
    {
     "data": {
      "text/plain": [
       "[[2,3,1],[3,2,1],[3,1,2],[2,1,3],[1,2,3],[1,3,2]]"
      ]
     },
     "metadata": {},
     "output_type": "display_data"
    }
   ],
   "source": [
    "insertSort coinCmpND [2,3,1]"
   ]
  }
 ],
 "metadata": {
  "kernelspec": {
   "display_name": "Haskell",
   "language": "haskell",
   "name": "haskell"
  },
  "language_info": {
   "codemirror_mode": "ihaskell",
   "file_extension": ".hs",
   "mimetype": "text/x-haskell",
   "name": "haskell",
   "pygments_lexer": "Haskell",
   "version": "8.6.5"
  }
 },
 "nbformat": 4,
 "nbformat_minor": 4
}
