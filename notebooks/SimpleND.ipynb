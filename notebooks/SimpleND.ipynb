{
 "cells": [
  {
   "cell_type": "markdown",
   "metadata": {},
   "source": [
    "## Nondeterministic permutation enumeration\n",
    "\n",
    "It follows the natural intuition, that using a nondeterministic binary predicate within a sorting algorithm (that sorts with respect to some ordering relation) will result in an arbitrary permutation. Here we treat list type (`[a]`) as a representation of a nondeterministic result of type `a` -- more precisely, as a set of all possible outcomes."
   ]
  },
  {
   "cell_type": "code",
   "execution_count": 1,
   "metadata": {},
   "outputs": [],
   "source": [
    "type ND a = [a]\n",
    "type CmpND a = a -> a -> ND Bool\n",
    "\n",
    "coinCmpND :: CmpND a\n",
    "coinCmpND _ _ = [True, False]\n",
    "\n",
    "liftND :: a -> ND a\n",
    "liftND x = [x]\n",
    "\n",
    "apply :: (a -> ND b) -> ND a -> ND b\n",
    "apply = concatMap\n",
    "\n",
    "insert' _ x [] = liftND [x]\n",
    "insert' p x yss@(y:ys) =\n",
    "    apply (\\b -> if b then liftND (x : yss)\n",
    "                      else (y:) <$> insert' p x ys) (p x y)\n",
    "\n",
    "insertSort :: CmpND a -> [a] -> ND [a]\n",
    "insertSort _ [] = liftND []\n",
    "insertSort p (x:xs) = apply (insert' p x) (insertSort p xs)"
   ]
  },
  {
   "cell_type": "code",
   "execution_count": 2,
   "metadata": {
    "scrolled": true
   },
   "outputs": [
    {
     "data": {
      "text/plain": [
       "[[2,3,1],[3,2,1],[3,1,2],[2,1,3],[1,2,3],[1,3,2]]"
      ]
     },
     "metadata": {},
     "output_type": "display_data"
    }
   ],
   "source": [
    "insertSort coinCmpND [2,3,1]"
   ]
  },
  {
   "cell_type": "markdown",
   "metadata": {},
   "source": [
    "What is worth noticing, are the functions `liftND`, `apply` and their usage -- they are basically equivalent to monadic `return` and `bind`. This similarity will guide us to a fully monadic approach, from which we will benefit substantially when tackling some of the sorting algorithms."
   ]
  }
 ],
 "metadata": {
  "kernelspec": {
   "display_name": "Haskell",
   "language": "haskell",
   "name": "haskell"
  },
  "language_info": {
   "codemirror_mode": "ihaskell",
   "file_extension": ".hs",
   "mimetype": "text/x-haskell",
   "name": "haskell",
   "pygments_lexer": "Haskell",
   "version": "8.6.5"
  }
 },
 "nbformat": 4,
 "nbformat_minor": 4
}
