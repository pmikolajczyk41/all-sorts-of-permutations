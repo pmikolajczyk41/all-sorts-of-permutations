{
 "cells": [
  {
   "cell_type": "markdown",
   "metadata": {},
   "source": [
    "# Bubble sort"
   ]
  },
  {
   "cell_type": "code",
   "execution_count": 1,
   "metadata": {},
   "outputs": [],
   "source": [
    ":set -XNoMonadFailDesugaring\n",
    ":l SortersM\n",
    ":l Predicates"
   ]
  },
  {
   "cell_type": "markdown",
   "metadata": {},
   "source": [
    "Similarily to selection sort, also bubble sort results in redundant sequences:"
   ]
  },
  {
   "cell_type": "code",
   "execution_count": 2,
   "metadata": {},
   "outputs": [
    {
     "data": {
      "text/plain": [
       "[[3,2,1],[3,1,2],[2,3,1],[2,1,3],[3,1,2],[3,2,1],[1,3,2],[1,2,3]]"
      ]
     },
     "metadata": {},
     "output_type": "display_data"
    }
   ],
   "source": [
    "bubbleSortM coinCmp [3,2,1] :: [[Int]]"
   ]
  },
  {
   "cell_type": "markdown",
   "metadata": {},
   "source": [
    "But in this case, providing consistent predicate is still not enough:"
   ]
  },
  {
   "cell_type": "code",
   "execution_count": 3,
   "metadata": {},
   "outputs": [
    {
     "data": {
      "text/plain": [
       "[[3,2,1],[2,3,1],[2,1,3],[3,1,2],[3,2,1],[1,3,2],[1,2,3]]"
      ]
     },
     "metadata": {},
     "output_type": "display_data"
    }
   ],
   "source": [
    "import Control.Monad.State\n",
    "evalStateT (bubbleSortM consistentCoinCmp [3,2,1]) noChoices :: [[Int]]"
   ]
  },
  {
   "cell_type": "markdown",
   "metadata": {},
   "source": [
    "The way bubble sort algorithm works leads us to situations, when two elements are being compared in two different setting, namely `(x,y)` and `(y,x)`. What we expect from ordering relation is antisymmetry. But consistency cannot guarantee such property. Therefore, we should apply closure while recording answers in the *state*."
   ]
  },
  {
   "cell_type": "code",
   "execution_count": 4,
   "metadata": {},
   "outputs": [],
   "source": [
    "import Data.List (nub)\n",
    "totalClosure :: (Eq a) => Choices a -> Choices a\n",
    "totalClosure cs = nub $ cs ++ concatMap add cs\n",
    "    where add ((x, y), b) = [((y, x), True) | not b]"
   ]
  },
  {
   "cell_type": "code",
   "execution_count": 5,
   "metadata": {},
   "outputs": [],
   "source": [
    "totalConsistentCoinCmp :: (Eq a, MonadPlus m) => CmpMS a m\n",
    "totalConsistentCoinCmp = checkChoices $ storeChoice totalClosure coinCmp"
   ]
  },
  {
   "cell_type": "code",
   "execution_count": 6,
   "metadata": {},
   "outputs": [
    {
     "data": {
      "text/plain": [
       "[[3,2,1],[2,3,1],[2,1,3],[3,1,2],[1,3,2],[1,2,3]]"
      ]
     },
     "metadata": {},
     "output_type": "display_data"
    }
   ],
   "source": [
    "evalStateT (selectSortM totalConsistentCoinCmp [3,2,1]) noChoices :: [[Int]]"
   ]
  },
  {
   "cell_type": "markdown",
   "metadata": {},
   "source": [
    "We may give a try abandoning state usage, and searching for another potential place for optimizing. What is worth noticing, is what happens during bubble phase. Well, given `(x:xs)` there will be some branches, when `x` will be considered as the minimum. Then, in terms of correctness, it doesn't matter how the tail will look like. Nevertheless, in the default implementation we consider all the possible tail configurations, which leads to a great redundancy: "
   ]
  },
  {
   "cell_type": "code",
   "execution_count": 7,
   "metadata": {},
   "outputs": [
    {
     "data": {
      "text/plain": [
       "[[3,2,1],[2,3,1],[2,1,3],[3,1,2],[3,2,1],[1,3,2],[1,2,3]]"
      ]
     },
     "metadata": {},
     "output_type": "display_data"
    }
   ],
   "source": [
    "bubbleM :: (Monad m) => CmpM a m -> [a] -> m [a]\n",
    "bubbleM _ [] = return []\n",
    "bubbleM _ [x] = return [x]\n",
    "bubbleM p (x:xs) = do\n",
    "    yss@(y:ys) <- bubbleM p xs\n",
    "    b <- p x y\n",
    "    return (if b then x : yss else y : x : ys)\n",
    "\n",
    "bubbleSortM :: (Monad m) => SorterM a m\n",
    "bubbleSortM _ [] = return []\n",
    "bubbleSortM p xs = do\n",
    "    (y:ys) <- bubbleM p xs\n",
    "    fmap (y:) (bubbleSortM p ys)\n",
    "\n",
    "evalStateT (bubbleSortM consistentCoinCmp [3,2,1]) noChoices :: [[Int]]"
   ]
  },
  {
   "cell_type": "markdown",
   "metadata": {},
   "source": [
    "By simply ignoring them and providing consistency we obtain stateless, nonredundant permutation enumeration:"
   ]
  },
  {
   "cell_type": "code",
   "execution_count": 8,
   "metadata": {},
   "outputs": [
    {
     "data": {
      "text/plain": [
       "[[3,2,1],[2,3,1],[2,1,3],[3,1,2],[1,3,2],[1,2,3]]"
      ]
     },
     "metadata": {},
     "output_type": "display_data"
    }
   ],
   "source": [
    "bubbleM :: (Monad m) => CmpM a m -> [a] -> m [a]\n",
    "bubbleM _ [] = return []\n",
    "bubbleM _ [x] = return [x]\n",
    "bubbleM p (x:xs) = do\n",
    "    (y:ys) <- bubbleM p xs\n",
    "    b <- p x y\n",
    "    return (if b then x : xs else y : x : ys)\n",
    "\n",
    "bubbleSortM :: (Monad m) => SorterM a m\n",
    "bubbleSortM _ [] = return []\n",
    "bubbleSortM p xs = do\n",
    "    (y:ys) <- bubbleM p xs\n",
    "    fmap (y:) (bubbleSortM p ys)\n",
    "\n",
    "evalStateT (bubbleSortM consistentCoinCmp [3,2,1]) noChoices :: [[Int]]"
   ]
  },
  {
   "cell_type": "markdown",
   "metadata": {},
   "source": [
    "However, implicitly we have just transformed bubble sort into selection sort due to giving up crucial behaviour of the bubble algorithm."
   ]
  }
 ],
 "metadata": {
  "kernelspec": {
   "display_name": "Haskell",
   "language": "haskell",
   "name": "haskell"
  },
  "language_info": {
   "codemirror_mode": "ihaskell",
   "file_extension": ".hs",
   "mimetype": "text/x-haskell",
   "name": "haskell",
   "pygments_lexer": "Haskell",
   "version": "8.6.5"
  }
 },
 "nbformat": 4,
 "nbformat_minor": 4
}
