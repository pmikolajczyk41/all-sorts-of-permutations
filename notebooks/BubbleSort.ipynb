{
 "cells": [
  {
   "cell_type": "code",
   "execution_count": 1,
   "metadata": {},
   "outputs": [],
   "source": [
    ":set -XNoMonadFailDesugaring\n",
    ":l SortersM\n",
    ":l Predicates"
   ]
  },
  {
   "cell_type": "code",
   "execution_count": 2,
   "metadata": {},
   "outputs": [
    {
     "data": {
      "text/plain": [
       "[[3,2,1],[3,1,2],[2,3,1],[2,1,3],[3,1,2],[3,2,1],[1,3,2],[1,2,3]]"
      ]
     },
     "metadata": {},
     "output_type": "display_data"
    }
   ],
   "source": [
    "bubbleSortM coinCmp [3,2,1] :: [[Int]]"
   ]
  },
  {
   "cell_type": "code",
   "execution_count": 3,
   "metadata": {},
   "outputs": [
    {
     "data": {
      "text/plain": [
       "[[3,2,1],[2,3,1],[2,1,3],[3,1,2],[3,2,1],[1,3,2],[1,2,3]]"
      ]
     },
     "metadata": {},
     "output_type": "display_data"
    }
   ],
   "source": [
    "import Control.Monad.State\n",
    "evalStateT (bubbleSortM consistentCoinCmp [3,2,1]) noChoices :: [[Int]]"
   ]
  },
  {
   "cell_type": "code",
   "execution_count": 4,
   "metadata": {},
   "outputs": [],
   "source": [
    "import Data.List (nub)\n",
    "totalClosure :: (Eq a) => Choices a -> Choices a\n",
    "totalClosure cs = nub $ cs ++ concatMap add cs\n",
    "    where add ((x, y), b) = [((y, x), True) | not b]"
   ]
  },
  {
   "cell_type": "code",
   "execution_count": 5,
   "metadata": {},
   "outputs": [],
   "source": [
    "totalConsistentCoinCmp :: (Eq a, MonadPlus m) => CmpMS a m\n",
    "totalConsistentCoinCmp = checkChoices $ storeChoice totalClosure coinCmp"
   ]
  },
  {
   "cell_type": "code",
   "execution_count": 6,
   "metadata": {},
   "outputs": [
    {
     "data": {
      "text/plain": [
       "[[3,2,1],[2,3,1],[2,1,3],[3,1,2],[1,3,2],[1,2,3]]"
      ]
     },
     "metadata": {},
     "output_type": "display_data"
    }
   ],
   "source": [
    "evalStateT (selectSortM totalConsistentCoinCmp [3,2,1]) noChoices :: [[Int]]"
   ]
  },
  {
   "cell_type": "code",
   "execution_count": 7,
   "metadata": {},
   "outputs": [
    {
     "data": {
      "text/plain": [
       "[[3,2,1],[2,3,1],[2,1,3],[3,1,2],[3,2,1],[1,3,2],[1,2,3]]"
      ]
     },
     "metadata": {},
     "output_type": "display_data"
    }
   ],
   "source": [
    "bubbleM :: (Monad m) => CmpM a m -> [a] -> m [a]\n",
    "bubbleM _ [] = return []\n",
    "bubbleM _ [x] = return [x]\n",
    "bubbleM p (x:xs) = do\n",
    "    yss@(y:ys) <- bubbleM p xs\n",
    "    b <- p x y\n",
    "    return (if b then x : yss else y : x : ys)\n",
    "\n",
    "bubbleSortM :: (Monad m) => SorterM a m\n",
    "bubbleSortM _ [] = return []\n",
    "bubbleSortM p xs = do\n",
    "    (y:ys) <- bubbleM p xs\n",
    "    fmap (y:) (bubbleSortM p ys)\n",
    "\n",
    "evalStateT (bubbleSortM consistentCoinCmp [3,2,1]) noChoices :: [[Int]]"
   ]
  },
  {
   "cell_type": "code",
   "execution_count": 8,
   "metadata": {},
   "outputs": [
    {
     "data": {
      "text/plain": [
       "[[3,2,1],[2,3,1],[2,1,3],[3,1,2],[1,3,2],[1,2,3]]"
      ]
     },
     "metadata": {},
     "output_type": "display_data"
    }
   ],
   "source": [
    "bubbleM :: (Monad m) => CmpM a m -> [a] -> m [a]\n",
    "bubbleM _ [] = return []\n",
    "bubbleM _ [x] = return [x]\n",
    "bubbleM p (x:xs) = do\n",
    "    (y:ys) <- bubbleM p xs\n",
    "    b <- p x y\n",
    "    return (if b then x : xs else y : x : ys)\n",
    "\n",
    "bubbleSortM :: (Monad m) => SorterM a m\n",
    "bubbleSortM _ [] = return []\n",
    "bubbleSortM p xs = do\n",
    "    (y:ys) <- bubbleM p xs\n",
    "    fmap (y:) (bubbleSortM p ys)\n",
    "\n",
    "evalStateT (bubbleSortM consistentCoinCmp [3,2,1]) noChoices :: [[Int]]"
   ]
  }
 ],
 "metadata": {
  "kernelspec": {
   "display_name": "Haskell",
   "language": "haskell",
   "name": "haskell"
  },
  "language_info": {
   "codemirror_mode": "ihaskell",
   "file_extension": ".hs",
   "mimetype": "text/x-haskell",
   "name": "haskell",
   "pygments_lexer": "Haskell",
   "version": "8.6.5"
  }
 },
 "nbformat": 4,
 "nbformat_minor": 4
}
