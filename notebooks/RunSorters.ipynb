{
 "cells": [
  {
   "cell_type": "code",
   "execution_count": 2,
   "metadata": {},
   "outputs": [],
   "source": [
    ":l Sorters"
   ]
  },
  {
   "cell_type": "code",
   "execution_count": 3,
   "metadata": {},
   "outputs": [
    {
     "data": {
      "text/plain": [
       "[1,2,3,4,5,6,7,8,9,10]"
      ]
     },
     "metadata": {},
     "output_type": "display_data"
    }
   ],
   "source": [
    "mergeSort (<=) [10,9..1]"
   ]
  },
  {
   "cell_type": "code",
   "execution_count": 4,
   "metadata": {},
   "outputs": [
    {
     "data": {
      "text/plain": [
       "\"oonnnmidca-\""
      ]
     },
     "metadata": {},
     "output_type": "display_data"
    }
   ],
   "source": [
    "selectSort (>=) \"non-monadic\""
   ]
  },
  {
   "cell_type": "code",
   "execution_count": 5,
   "metadata": {},
   "outputs": [
    {
     "data": {
      "text/plain": [
       "[True,True,True,True,True]"
      ]
     },
     "metadata": {},
     "output_type": "display_data"
    }
   ],
   "source": [
    "testOn (<=) [100,95..1]"
   ]
  },
  {
   "cell_type": "code",
   "execution_count": null,
   "metadata": {},
   "outputs": [],
   "source": []
  },
  {
   "cell_type": "code",
   "execution_count": 7,
   "metadata": {},
   "outputs": [],
   "source": [
    ":set -XNoMonadFailDesugaring"
   ]
  },
  {
   "cell_type": "code",
   "execution_count": 8,
   "metadata": {},
   "outputs": [],
   "source": [
    ":l SortersM"
   ]
  },
  {
   "cell_type": "code",
   "execution_count": 9,
   "metadata": {},
   "outputs": [],
   "source": [
    "import Control.Monad\n",
    "coinCmp :: (MonadPlus m) => CmpM a m\n",
    "coinCmp _ _ = return True `mplus` return False"
   ]
  },
  {
   "cell_type": "code",
   "execution_count": 10,
   "metadata": {},
   "outputs": [
    {
     "data": {
      "text/plain": [
       "[1,2,3,4,5,6,7,8,9,10]"
      ]
     },
     "metadata": {},
     "output_type": "display_data"
    }
   ],
   "source": [
    "quickSortM coinCmp [10,9..1]"
   ]
  },
  {
   "cell_type": "code",
   "execution_count": 11,
   "metadata": {},
   "outputs": [
    {
     "data": {
      "text/plain": [
       "[3,2,1]"
      ]
     },
     "metadata": {},
     "output_type": "display_data"
    }
   ],
   "source": [
    "insertSortM coinCmp [3,2,1]"
   ]
  },
  {
   "cell_type": "code",
   "execution_count": 12,
   "metadata": {},
   "outputs": [
    {
     "data": {
      "text/plain": [
       "[[3,2,1],[2,3,1],[2,1,3],[3,1,2],[1,3,2],[1,2,3]]"
      ]
     },
     "metadata": {},
     "output_type": "display_data"
    }
   ],
   "source": [
    "insertSortM coinCmp [3,2,1] :: [[Int]]"
   ]
  },
  {
   "cell_type": "code",
   "execution_count": 13,
   "metadata": {},
   "outputs": [
    {
     "data": {
      "text/plain": [
       "[[2,3,1],[2,1,3],[3,2,1],[3,1,2],[2,3,1],[2,1,3],[1,2,3],[1,3,2]]"
      ]
     },
     "metadata": {},
     "output_type": "display_data"
    }
   ],
   "source": [
    "selectSortM coinCmp [2,3,1] :: [[Int]]"
   ]
  },
  {
   "cell_type": "code",
   "execution_count": 14,
   "metadata": {},
   "outputs": [
    {
     "data": {
      "text/plain": [
       "[[2,3,1],[2,1,3],[3,2,1],[3,1,2],[2,1,3],[2,3,1],[1,2,3],[1,3,2]]"
      ]
     },
     "metadata": {},
     "output_type": "display_data"
    }
   ],
   "source": [
    "bubbleSortM coinCmp [2,3,1] :: [[Int]]"
   ]
  },
  {
   "cell_type": "code",
   "execution_count": 15,
   "metadata": {},
   "outputs": [
    {
     "data": {
      "text/plain": [
       "[[1,3,2],[1,3,2,1],[1,3,2,3],[1,3,2,1,3],[1,3,2,1,3,1],[1,3,2,3],[1,3,2,3,1],[1,3,1,2],[1,3,1,2,1],[1,3,1,2,3],[1,3,1,2,1,3],[1,3,1,2,1,3,1],[1,3,1,2,3],[1,3,1,2,3,1],[3,2],[3,2,1],[3,2,3],[3,2,1,3],[3,2,1,3,1],[3,2,3],[3,2,3,1],[3,1,2],[3,1,2,1],[3,1,2,3],[3,1,2,1,3],[3,1,2,1,3,1],[3,1,2,3],[3,1,2,3,1],[3,2],[3,2,1],[3,2,3],[3,2,1,3],[3,2,1,3,1],[3,2,3],[3,2,3,1],[1,2],[1,2,1],[1,2,3],[1,2,1,3],[1,2,1,3,1],[1,2,3],[1,2,3,1],[2],[2,1],[2,3],[2,1,3],[2,1,3,1],[2,3],[2,3,1]]"
      ]
     },
     "metadata": {},
     "output_type": "display_data"
    }
   ],
   "source": [
    "quickSortM coinCmp [2,3,1] :: [[Int]]"
   ]
  },
  {
   "cell_type": "code",
   "execution_count": 16,
   "metadata": {},
   "outputs": [
    {
     "data": {
      "text/plain": [
       "[[2,3,1],[3,2,1],[3,1,2],[2,1,3],[1,2,3],[1,3,2]]"
      ]
     },
     "metadata": {},
     "output_type": "display_data"
    }
   ],
   "source": [
    "mergeSortM coinCmp [2,3,1] :: [[Int]]"
   ]
  },
  {
   "cell_type": "code",
   "execution_count": 17,
   "metadata": {},
   "outputs": [
    {
     "data": {
      "text/plain": [
       "[True,True,True,True,True]"
      ]
     },
     "metadata": {},
     "output_type": "display_data"
    }
   ],
   "source": [
    "testOnM (<=) [5,4..1]"
   ]
  }
 ],
 "metadata": {
  "kernelspec": {
   "display_name": "Haskell",
   "language": "haskell",
   "name": "haskell"
  },
  "language_info": {
   "codemirror_mode": "ihaskell",
   "file_extension": ".hs",
   "mimetype": "text/x-haskell",
   "name": "haskell",
   "pygments_lexer": "Haskell",
   "version": "8.6.5"
  }
 },
 "nbformat": 4,
 "nbformat_minor": 4
}
