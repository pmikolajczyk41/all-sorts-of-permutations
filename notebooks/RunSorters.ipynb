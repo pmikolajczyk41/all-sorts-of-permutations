{
 "cells": [
  {
   "cell_type": "code",
   "execution_count": 1,
   "metadata": {},
   "outputs": [],
   "source": [
    ":set -XNoMonadFailDesugaring\n",
    ":l Sorters\n",
    ":l SortersM\n",
    ":l Predicates"
   ]
  },
  {
   "cell_type": "code",
   "execution_count": 2,
   "metadata": {},
   "outputs": [
    {
     "data": {
      "text/plain": [
       "[1,2,3,4,5,6,7,8,9,10]"
      ]
     },
     "metadata": {},
     "output_type": "display_data"
    },
    {
     "data": {
      "text/plain": [
       "\"oonnnmidca-\""
      ]
     },
     "metadata": {},
     "output_type": "display_data"
    }
   ],
   "source": [
    "mergeSort (<=) [10,9..1]\n",
    "selectSort (>=) \"non-monadic\""
   ]
  },
  {
   "cell_type": "code",
   "execution_count": 3,
   "metadata": {},
   "outputs": [
    {
     "data": {
      "text/plain": [
       "\"OK\""
      ]
     },
     "metadata": {},
     "output_type": "display_data"
    }
   ],
   "source": [
    "testOn (<=) [100,95..1]"
   ]
  },
  {
   "cell_type": "code",
   "execution_count": 4,
   "metadata": {},
   "outputs": [
    {
     "data": {
      "text/plain": [
       "[1,2,3,4,5,6,7,8,9,10]"
      ]
     },
     "metadata": {},
     "output_type": "display_data"
    }
   ],
   "source": [
    "quickSortM coinCmp [10,9..1]"
   ]
  },
  {
   "cell_type": "code",
   "execution_count": 5,
   "metadata": {},
   "outputs": [
    {
     "data": {
      "text/plain": [
       "[3,2,1]"
      ]
     },
     "metadata": {},
     "output_type": "display_data"
    }
   ],
   "source": [
    "insertSortM coinCmp [3,2,1]"
   ]
  },
  {
   "cell_type": "code",
   "execution_count": 6,
   "metadata": {},
   "outputs": [
    {
     "data": {
      "text/plain": [
       "[[3,2,1],[2,3,1],[2,1,3],[3,1,2],[1,3,2],[1,2,3]]"
      ]
     },
     "metadata": {},
     "output_type": "display_data"
    }
   ],
   "source": [
    "insertSortM coinCmp [3,2,1] :: [[Int]]"
   ]
  },
  {
   "cell_type": "code",
   "execution_count": 7,
   "metadata": {},
   "outputs": [
    {
     "data": {
      "text/plain": [
       "[[2,3,1],[2,1,3],[3,2,1],[3,1,2],[2,3,1],[2,1,3],[1,2,3],[1,3,2]]"
      ]
     },
     "metadata": {},
     "output_type": "display_data"
    }
   ],
   "source": [
    "selectSortM coinCmp [2,3,1] :: [[Int]]"
   ]
  },
  {
   "cell_type": "code",
   "execution_count": 8,
   "metadata": {},
   "outputs": [
    {
     "data": {
      "text/plain": [
       "[[2,3,1],[2,1,3],[3,2,1],[3,1,2],[2,1,3],[2,3,1],[1,2,3],[1,3,2]]"
      ]
     },
     "metadata": {},
     "output_type": "display_data"
    }
   ],
   "source": [
    "bubbleSortM coinCmp [2,3,1] :: [[Int]]"
   ]
  },
  {
   "cell_type": "code",
   "execution_count": 9,
   "metadata": {},
   "outputs": [
    {
     "data": {
      "text/plain": [
       "[[1,3,2],[1,3,2,1],[1,3,2,3],[1,3,2,1,3],[1,3,2,1,3,1],[1,3,2,3],[1,3,2,3,1],[1,3,1,2],[1,3,1,2,1],[1,3,1,2,3],[1,3,1,2,1,3],[1,3,1,2,1,3,1],[1,3,1,2,3],[1,3,1,2,3,1],[3,2],[3,2,1],[3,2,3],[3,2,1,3],[3,2,1,3,1],[3,2,3],[3,2,3,1],[3,1,2],[3,1,2,1],[3,1,2,3],[3,1,2,1,3],[3,1,2,1,3,1],[3,1,2,3],[3,1,2,3,1],[3,2],[3,2,1],[3,2,3],[3,2,1,3],[3,2,1,3,1],[3,2,3],[3,2,3,1],[1,2],[1,2,1],[1,2,3],[1,2,1,3],[1,2,1,3,1],[1,2,3],[1,2,3,1],[2],[2,1],[2,3],[2,1,3],[2,1,3,1],[2,3],[2,3,1]]"
      ]
     },
     "metadata": {},
     "output_type": "display_data"
    }
   ],
   "source": [
    "quickSortM coinCmp [2,3,1] :: [[Int]]"
   ]
  },
  {
   "cell_type": "code",
   "execution_count": 10,
   "metadata": {},
   "outputs": [
    {
     "data": {
      "text/plain": [
       "[[2,3,1],[3,2,1],[3,1,2],[2,1,3],[1,2,3],[1,3,2]]"
      ]
     },
     "metadata": {},
     "output_type": "display_data"
    }
   ],
   "source": [
    "mergeSortM coinCmp [2,3,1] :: [[Int]]"
   ]
  },
  {
   "cell_type": "code",
   "execution_count": 11,
   "metadata": {},
   "outputs": [
    {
     "data": {
      "text/plain": [
       "\"OK\""
      ]
     },
     "metadata": {},
     "output_type": "display_data"
    }
   ],
   "source": [
    "testOnM (<=) [5,4..1]"
   ]
  }
 ],
 "metadata": {
  "kernelspec": {
   "display_name": "Haskell",
   "language": "haskell",
   "name": "haskell"
  },
  "language_info": {
   "codemirror_mode": "ihaskell",
   "file_extension": ".hs",
   "mimetype": "text/x-haskell",
   "name": "haskell",
   "pygments_lexer": "Haskell",
   "version": "8.6.5"
  }
 },
 "nbformat": 4,
 "nbformat_minor": 4
}
