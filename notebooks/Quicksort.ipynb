{
 "cells": [
  {
   "cell_type": "markdown",
   "metadata": {},
   "source": [
    "# Quicksort"
   ]
  },
  {
   "cell_type": "code",
   "execution_count": 1,
   "metadata": {},
   "outputs": [],
   "source": [
    ":set -XNoMonadFailDesugaring\n",
    ":l SortersM\n",
    ":l Predicates"
   ]
  },
  {
   "cell_type": "markdown",
   "metadata": {},
   "source": [
    "What is unique about our method applied to quicksort is that by default we get not only multiple occurences of the same permutation, but also much more sequences:"
   ]
  },
  {
   "cell_type": "code",
   "execution_count": 2,
   "metadata": {},
   "outputs": [
    {
     "data": {
      "text/plain": [
       "[[1,2,3],[1,2,3,1],[1,2,3,2],[1,2,3,1,2],[1,2,3,1,2,1],[1,2,3,2],[1,2,3,2,1],[1,2,1,3],[1,2,1,3,1],[1,2,1,3,2],[1,2,1,3,1,2],[1,2,1,3,1,2,1],[1,2,1,3,2],[1,2,1,3,2,1],[2,3],[2,3,1],[2,3,2],[2,3,1,2],[2,3,1,2,1],[2,3,2],[2,3,2,1],[2,1,3],[2,1,3,1],[2,1,3,2],[2,1,3,1,2],[2,1,3,1,2,1],[2,1,3,2],[2,1,3,2,1],[2,3],[2,3,1],[2,3,2],[2,3,1,2],[2,3,1,2,1],[2,3,2],[2,3,2,1],[1,3],[1,3,1],[1,3,2],[1,3,1,2],[1,3,1,2,1],[1,3,2],[1,3,2,1],[3],[3,1],[3,2],[3,1,2],[3,1,2,1],[3,2],[3,2,1]]"
      ]
     },
     "metadata": {},
     "output_type": "display_data"
    }
   ],
   "source": [
    "quickSortM coinCmp [3,2,1] :: [[Int]]"
   ]
  },
  {
   "cell_type": "markdown",
   "metadata": {},
   "source": [
    "Here, even predicate consistency doesn't help, but at least it removes sequences that are not valid permutations:"
   ]
  },
  {
   "cell_type": "code",
   "execution_count": 3,
   "metadata": {},
   "outputs": [
    {
     "data": {
      "text/plain": [
       "[[3,2,1],[2,3,1],[2,1,3],[3,1,2],[3,2,1],[1,3,2],[1,2,3]]"
      ]
     },
     "metadata": {},
     "output_type": "display_data"
    }
   ],
   "source": [
    "import Control.Monad.State\n",
    "evalStateT (bubbleSortM consistentCoinCmp [3,2,1]) noChoices :: [[Int]]"
   ]
  },
  {
   "cell_type": "markdown",
   "metadata": {},
   "source": [
    "The thing we should concentrate on is the way we split elements in the list with respect to the pivot. By default we perform two independent filterings. This results in a wide range of different element placements:"
   ]
  },
  {
   "cell_type": "code",
   "execution_count": 4,
   "metadata": {},
   "outputs": [
    {
     "data": {
      "text/plain": [
       "[([1,2],[]),([1,2],[2]),([1,2],[1]),([1,2],[1,2]),([1],[]),([1],[2]),([1],[1]),([1],[1,2]),([2],[]),([2],[2]),([2],[1]),([2],[1,2]),([],[]),([],[2]),([],[1]),([],[1,2])]"
      ]
     },
     "metadata": {},
     "output_type": "display_data"
    }
   ],
   "source": [
    "type Partition a m = (a -> m Bool) -> [a] -> m ([a], [a])\n",
    "filterTwiceNDM :: (Monad m) => Partition a m\n",
    "filterTwiceNDM p xs = do\n",
    "    xs1 <- filterM p xs\n",
    "    xs2 <- filterM (fmap not . p) xs\n",
    "    return (xs1, xs2)\n",
    "\n",
    "filterTwiceNDM (coinCmp 0) [1,2] :: [([Int], [Int])]"
   ]
  },
  {
   "cell_type": "markdown",
   "metadata": {},
   "source": [
    "We might face it with either predicate consistency:"
   ]
  },
  {
   "cell_type": "code",
   "execution_count": 5,
   "metadata": {},
   "outputs": [
    {
     "data": {
      "text/plain": [
       "[([1,2],[]),([1],[2]),([2],[1]),([],[1,2])]"
      ]
     },
     "metadata": {},
     "output_type": "display_data"
    }
   ],
   "source": [
    "evalStateT (filterTwiceNDM (consistentCoinCmp 0) [1,2]) noChoices :: [([Int], [Int])]"
   ]
  },
  {
   "cell_type": "markdown",
   "metadata": {},
   "source": [
    "or with a single-scan partitioning:"
   ]
  },
  {
   "cell_type": "code",
   "execution_count": 6,
   "metadata": {},
   "outputs": [
    {
     "data": {
      "text/plain": [
       "[([1,2],[]),([1],[2]),([2],[1]),([],[1,2])]"
      ]
     },
     "metadata": {},
     "output_type": "display_data"
    }
   ],
   "source": [
    "partitionNDM :: (Monad m) => Partition a m\n",
    "partitionNDM _ [] = return ([], [])\n",
    "partitionNDM p (x:xs) = do\n",
    "    b <- p x\n",
    "    (xs1, xs2) <- partitionNDM p xs\n",
    "    return $ if b then (x:xs1, xs2) else (xs1, x:xs2)\n",
    "\n",
    "partitionNDM (coinCmp 0) [1,2] :: [([Int], [Int])]"
   ]
  },
  {
   "cell_type": "markdown",
   "metadata": {},
   "source": [
    "This is sufficient to obtain required result:"
   ]
  },
  {
   "cell_type": "code",
   "execution_count": 7,
   "metadata": {},
   "outputs": [
    {
     "data": {
      "text/plain": [
       "[[1,2,3],[2,1,3],[2,3,1],[1,3,2],[3,1,2],[3,2,1]]"
      ]
     },
     "metadata": {},
     "output_type": "display_data"
    }
   ],
   "source": [
    "quickSortM :: (Monad m) => SorterM a m\n",
    "quickSortM _ [] = return []\n",
    "quickSortM p (x:xs) = do\n",
    "    let fp = flip p\n",
    "    (less, greater) <- partitionNDM (fp x) xs\n",
    "    less' <- quickSortM p less\n",
    "    greater' <- quickSortM p greater\n",
    "    return (less' ++ [x] ++ greater')\n",
    "    \n",
    "quickSortM coinCmp [3,2,1] :: [[Int]]"
   ]
  }
 ],
 "metadata": {
  "kernelspec": {
   "display_name": "Haskell",
   "language": "haskell",
   "name": "haskell"
  },
  "language_info": {
   "codemirror_mode": "ihaskell",
   "file_extension": ".hs",
   "mimetype": "text/x-haskell",
   "name": "haskell",
   "pygments_lexer": "Haskell",
   "version": "8.6.5"
  }
 },
 "nbformat": 4,
 "nbformat_minor": 4
}
